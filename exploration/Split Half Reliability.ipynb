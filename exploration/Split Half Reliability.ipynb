{
 "cells": [
  {
   "cell_type": "code",
   "execution_count": 1,
   "id": "24137053",
   "metadata": {},
   "outputs": [],
   "source": [
    "import pandas as pd\n",
    "import numpy as np\n",
    "\n",
    "import random\n",
    "import tqdm\n",
    "import warnings\n",
    "import plotly\n",
    "import plotly.graph_objects as go\n",
    "\n",
    "from scipy.stats import spearmanr\n",
    "from plotly.subplots import make_subplots\n",
    "\n",
    "PROCESSED_DATA = \"../data/processed\"\n",
    "\n",
    "MODELS = [\n",
    "  \"gpt3_normalised_rating\",\n",
    "  \"gpt4_normalised_rating\",\n",
    "  \"gpt3_scm\",\n",
    "  \"gpt4_scm\",\n",
    "  \"human_scm\"\n",
    "]\n",
    "\n",
    "TOP_PROMPT_GENERATOR = \"S3-C1-A1-Q1-O1-T\"\n",
    "\n",
    "np.random.seed(1)\n",
    "random.seed(1)"
   ]
  },
  {
   "cell_type": "markdown",
   "id": "b13cd530",
   "metadata": {},
   "source": [
    "# Load experiment 2 participant ratings"
   ]
  },
  {
   "cell_type": "code",
   "execution_count": 2,
   "id": "4a82260f",
   "metadata": {},
   "outputs": [
    {
     "data": {
      "text/html": [
       "<div>\n",
       "<style scoped>\n",
       "    .dataframe tbody tr th:only-of-type {\n",
       "        vertical-align: middle;\n",
       "    }\n",
       "\n",
       "    .dataframe tbody tr th {\n",
       "        vertical-align: top;\n",
       "    }\n",
       "\n",
       "    .dataframe thead th {\n",
       "        text-align: right;\n",
       "    }\n",
       "</style>\n",
       "<table border=\"1\" class=\"dataframe\">\n",
       "  <thead>\n",
       "    <tr style=\"text-align: right;\">\n",
       "      <th></th>\n",
       "      <th>pid</th>\n",
       "      <th>tid</th>\n",
       "      <th>domain</th>\n",
       "      <th>conclusion_type</th>\n",
       "      <th>is_osherson</th>\n",
       "      <th>premises</th>\n",
       "      <th>conclusion</th>\n",
       "      <th>rating</th>\n",
       "      <th>argument_id</th>\n",
       "      <th>is_single_premise</th>\n",
       "      <th>is_control</th>\n",
       "      <th>is_tutorial</th>\n",
       "      <th>light_cut</th>\n",
       "      <th>medium_cut</th>\n",
       "      <th>hard_cut</th>\n",
       "      <th>ranking</th>\n",
       "      <th>block</th>\n",
       "    </tr>\n",
       "  </thead>\n",
       "  <tbody>\n",
       "    <tr>\n",
       "      <th>0</th>\n",
       "      <td>0</td>\n",
       "      <td>0</td>\n",
       "      <td>Birds</td>\n",
       "      <td>General</td>\n",
       "      <td>False</td>\n",
       "      <td>('Eagles',)</td>\n",
       "      <td>All birds</td>\n",
       "      <td>0</td>\n",
       "      <td>(('Eagles',), 'All birds')</td>\n",
       "      <td>True</td>\n",
       "      <td>False</td>\n",
       "      <td>False</td>\n",
       "      <td>False</td>\n",
       "      <td>False</td>\n",
       "      <td>False</td>\n",
       "      <td>0.041667</td>\n",
       "      <td>0</td>\n",
       "    </tr>\n",
       "    <tr>\n",
       "      <th>1</th>\n",
       "      <td>0</td>\n",
       "      <td>1</td>\n",
       "      <td>Birds</td>\n",
       "      <td>General</td>\n",
       "      <td>False</td>\n",
       "      <td>('Crows',)</td>\n",
       "      <td>All birds</td>\n",
       "      <td>7</td>\n",
       "      <td>(('Crows',), 'All birds')</td>\n",
       "      <td>True</td>\n",
       "      <td>False</td>\n",
       "      <td>False</td>\n",
       "      <td>False</td>\n",
       "      <td>False</td>\n",
       "      <td>False</td>\n",
       "      <td>0.583333</td>\n",
       "      <td>0</td>\n",
       "    </tr>\n",
       "    <tr>\n",
       "      <th>2</th>\n",
       "      <td>0</td>\n",
       "      <td>10</td>\n",
       "      <td>Birds</td>\n",
       "      <td>General</td>\n",
       "      <td>False</td>\n",
       "      <td>('Vultures',)</td>\n",
       "      <td>All birds</td>\n",
       "      <td>3</td>\n",
       "      <td>(('Vultures',), 'All birds')</td>\n",
       "      <td>True</td>\n",
       "      <td>False</td>\n",
       "      <td>False</td>\n",
       "      <td>False</td>\n",
       "      <td>False</td>\n",
       "      <td>False</td>\n",
       "      <td>0.187500</td>\n",
       "      <td>0</td>\n",
       "    </tr>\n",
       "    <tr>\n",
       "      <th>3</th>\n",
       "      <td>0</td>\n",
       "      <td>11</td>\n",
       "      <td>Birds</td>\n",
       "      <td>General</td>\n",
       "      <td>False</td>\n",
       "      <td>('Falcons',)</td>\n",
       "      <td>All birds</td>\n",
       "      <td>3</td>\n",
       "      <td>(('Falcons',), 'All birds')</td>\n",
       "      <td>True</td>\n",
       "      <td>False</td>\n",
       "      <td>False</td>\n",
       "      <td>False</td>\n",
       "      <td>False</td>\n",
       "      <td>False</td>\n",
       "      <td>0.187500</td>\n",
       "      <td>0</td>\n",
       "    </tr>\n",
       "    <tr>\n",
       "      <th>4</th>\n",
       "      <td>0</td>\n",
       "      <td>12</td>\n",
       "      <td>Birds</td>\n",
       "      <td>General</td>\n",
       "      <td>False</td>\n",
       "      <td>('Herons',)</td>\n",
       "      <td>All birds</td>\n",
       "      <td>7</td>\n",
       "      <td>(('Herons',), 'All birds')</td>\n",
       "      <td>True</td>\n",
       "      <td>False</td>\n",
       "      <td>False</td>\n",
       "      <td>False</td>\n",
       "      <td>False</td>\n",
       "      <td>False</td>\n",
       "      <td>0.583333</td>\n",
       "      <td>0</td>\n",
       "    </tr>\n",
       "  </tbody>\n",
       "</table>\n",
       "</div>"
      ],
      "text/plain": [
       "   pid  tid domain conclusion_type  is_osherson       premises conclusion  \\\n",
       "0    0    0  Birds         General        False    ('Eagles',)  All birds   \n",
       "1    0    1  Birds         General        False     ('Crows',)  All birds   \n",
       "2    0   10  Birds         General        False  ('Vultures',)  All birds   \n",
       "3    0   11  Birds         General        False   ('Falcons',)  All birds   \n",
       "4    0   12  Birds         General        False    ('Herons',)  All birds   \n",
       "\n",
       "   rating                   argument_id  is_single_premise  is_control  \\\n",
       "0       0    (('Eagles',), 'All birds')               True       False   \n",
       "1       7     (('Crows',), 'All birds')               True       False   \n",
       "2       3  (('Vultures',), 'All birds')               True       False   \n",
       "3       3   (('Falcons',), 'All birds')               True       False   \n",
       "4       7    (('Herons',), 'All birds')               True       False   \n",
       "\n",
       "   is_tutorial  light_cut  medium_cut  hard_cut   ranking  block  \n",
       "0        False      False       False     False  0.041667      0  \n",
       "1        False      False       False     False  0.583333      0  \n",
       "2        False      False       False     False  0.187500      0  \n",
       "3        False      False       False     False  0.187500      0  \n",
       "4        False      False       False     False  0.583333      0  "
      ]
     },
     "execution_count": 2,
     "metadata": {},
     "output_type": "execute_result"
    }
   ],
   "source": [
    "human_df = pd.read_csv(f\"{PROCESSED_DATA}/experiment_2_dedeyne_master.csv\", index_col=0)\n",
    "\n",
    "# Filter out control and tutorial arguments\n",
    "human_df = human_df[(~human_df[\"is_control\"]) & (~human_df[\"is_tutorial\"])].dropna().rename({\"argument\": \"argument_id\"}, axis=1)\n",
    "\n",
    "# Transform 0-100 argument ratings into argument rankings for each participant and conclusion type\n",
    "# human_df[\"ranking\"] = human_df.groupby([\"pid\", \"is_single_premise\"])[\"rating\"].rank(method=\"dense\", ascending=True)\n",
    "\n",
    "# CK: I think we should use fractional ranking given that we want to average rankings across participants. For example\n",
    "# if a participant gave a rating of 0 to 5 arguments and a rating of 100 to 5 arguments, then the dense ranking would\n",
    "# assign ranks of 1,1,1,1,1,2,2,2,2,2 to the arguments. That doesn't seem right given that we'd be comparing this ranking\n",
    "# to rankings for other participants that might range from 1 to 10. Another way to see that there's a problem with\n",
    "# dense rankings is that they're not symmetric -- all of them start at 1 but it's not the case that all of them end at 10,\n",
    "# and it doesn't seem right for there to be an asymmetry in the way the top ranks and bottom ranks are handled.\n",
    "\n",
    "human_df[\"ranking\"] = human_df.groupby([\"pid\", \"is_single_premise\"])[\"rating\"].rank(pct=\"True\", ascending=True)\n",
    "\n",
    "# Map participants to blocks based on the multi premise arguments that they saw\n",
    "blocks = {}\n",
    "for pid, pid_df in human_df[~human_df[\"is_single_premise\"]].groupby([\"pid\"]):\n",
    "    block = tuple(pid_df[\"argument_id\"].sort_values().tolist())\n",
    "    if block not in blocks:\n",
    "        blocks[block] = [pid]\n",
    "    else:\n",
    "        blocks[block].append(pid)\n",
    "pid_to_block = {}\n",
    "for i,pids in enumerate(blocks.values()):\n",
    "    for pid in pids:\n",
    "        pid_to_block[pid] = i\n",
    "human_df[\"block\"] = human_df[\"pid\"].map(pid_to_block)\n",
    "\n",
    "# I don't understand these blocks. Why are there 67? And why do some of them include a single participant only?\n",
    "\n",
    "human_df.head()"
   ]
  },
  {
   "cell_type": "markdown",
   "id": "42c2f1d6",
   "metadata": {},
   "source": [
    "# Load experiment 2 model ratings"
   ]
  },
  {
   "cell_type": "code",
   "execution_count": 3,
   "id": "1653644d",
   "metadata": {},
   "outputs": [
    {
     "data": {
      "text/html": [
       "<div>\n",
       "<style scoped>\n",
       "    .dataframe tbody tr th:only-of-type {\n",
       "        vertical-align: middle;\n",
       "    }\n",
       "\n",
       "    .dataframe tbody tr th {\n",
       "        vertical-align: top;\n",
       "    }\n",
       "\n",
       "    .dataframe thead th {\n",
       "        text-align: right;\n",
       "    }\n",
       "</style>\n",
       "<table border=\"1\" class=\"dataframe\">\n",
       "  <thead>\n",
       "    <tr style=\"text-align: right;\">\n",
       "      <th></th>\n",
       "      <th>argument_id</th>\n",
       "      <th>domain</th>\n",
       "      <th>conclusion_type</th>\n",
       "      <th>argument_type</th>\n",
       "      <th>gpt3_normalised_rating</th>\n",
       "      <th>gpt4_normalised_rating</th>\n",
       "      <th>gpt3_scm</th>\n",
       "      <th>gpt4_scm</th>\n",
       "      <th>human_scm</th>\n",
       "    </tr>\n",
       "  </thead>\n",
       "  <tbody>\n",
       "    <tr>\n",
       "      <th>0</th>\n",
       "      <td>(('Airplanes', 'Buses'), 'All vehicles')</td>\n",
       "      <td>Vehicles</td>\n",
       "      <td>General</td>\n",
       "      <td>multi</td>\n",
       "      <td>0.914</td>\n",
       "      <td>0.998</td>\n",
       "      <td>0.652174</td>\n",
       "      <td>0.727053</td>\n",
       "      <td>0.758303</td>\n",
       "    </tr>\n",
       "    <tr>\n",
       "      <th>1</th>\n",
       "      <td>(('Airplanes', 'Helicopters'), 'All vehicles')</td>\n",
       "      <td>Vehicles</td>\n",
       "      <td>General</td>\n",
       "      <td>multi</td>\n",
       "      <td>0.812</td>\n",
       "      <td>0.994</td>\n",
       "      <td>0.443690</td>\n",
       "      <td>0.520380</td>\n",
       "      <td>0.519173</td>\n",
       "    </tr>\n",
       "    <tr>\n",
       "      <th>2</th>\n",
       "      <td>(('Airplanes', 'Taxis'), 'All vehicles')</td>\n",
       "      <td>Vehicles</td>\n",
       "      <td>General</td>\n",
       "      <td>multi</td>\n",
       "      <td>0.922</td>\n",
       "      <td>0.998</td>\n",
       "      <td>0.572917</td>\n",
       "      <td>0.719354</td>\n",
       "      <td>0.750755</td>\n",
       "    </tr>\n",
       "    <tr>\n",
       "      <th>3</th>\n",
       "      <td>(('Airplanes', 'Trams'), 'Trains')</td>\n",
       "      <td>Vehicles</td>\n",
       "      <td>Specific</td>\n",
       "      <td>multi</td>\n",
       "      <td>0.976</td>\n",
       "      <td>0.996</td>\n",
       "      <td>0.819444</td>\n",
       "      <td>0.818765</td>\n",
       "      <td>0.816501</td>\n",
       "    </tr>\n",
       "    <tr>\n",
       "      <th>4</th>\n",
       "      <td>(('Airplanes', 'Zeppelins'), 'All vehicles')</td>\n",
       "      <td>Vehicles</td>\n",
       "      <td>General</td>\n",
       "      <td>multi</td>\n",
       "      <td>0.800</td>\n",
       "      <td>0.992</td>\n",
       "      <td>0.563406</td>\n",
       "      <td>0.510417</td>\n",
       "      <td>0.534118</td>\n",
       "    </tr>\n",
       "  </tbody>\n",
       "</table>\n",
       "</div>"
      ],
      "text/plain": [
       "                                      argument_id    domain conclusion_type  \\\n",
       "0        (('Airplanes', 'Buses'), 'All vehicles')  Vehicles         General   \n",
       "1  (('Airplanes', 'Helicopters'), 'All vehicles')  Vehicles         General   \n",
       "2        (('Airplanes', 'Taxis'), 'All vehicles')  Vehicles         General   \n",
       "3              (('Airplanes', 'Trams'), 'Trains')  Vehicles        Specific   \n",
       "4    (('Airplanes', 'Zeppelins'), 'All vehicles')  Vehicles         General   \n",
       "\n",
       "  argument_type  gpt3_normalised_rating  gpt4_normalised_rating  gpt3_scm  \\\n",
       "0         multi                   0.914                   0.998  0.652174   \n",
       "1         multi                   0.812                   0.994  0.443690   \n",
       "2         multi                   0.922                   0.998  0.572917   \n",
       "3         multi                   0.976                   0.996  0.819444   \n",
       "4         multi                   0.800                   0.992  0.563406   \n",
       "\n",
       "   gpt4_scm  human_scm  \n",
       "0  0.727053   0.758303  \n",
       "1  0.520380   0.519173  \n",
       "2  0.719354   0.750755  \n",
       "3  0.818765   0.816501  \n",
       "4  0.510417   0.534118  "
      ]
     },
     "execution_count": 3,
     "metadata": {},
     "output_type": "execute_result"
    }
   ],
   "source": [
    "model_df = pd.read_csv(f\"{PROCESSED_DATA}/e2_combined_df.csv\", index_col=0)\n",
    "model_df[\"argument_type\"] = model_df[\"is_single_premise\"].apply(lambda x: \"single\" if x else \"multi\")\n",
    "model_df = model_df[model_df[\"prompt_generator\"] == TOP_PROMPT_GENERATOR]\n",
    "model_df = model_df[[\"argument_id\", \"domain\", \"conclusion_type\", \"argument_type\"] + MODELS].reset_index(drop=True)\n",
    "\n",
    "model_df.head()"
   ]
  },
  {
   "cell_type": "markdown",
   "id": "e1340987",
   "metadata": {},
   "source": [
    "# Bootstrap model correlations"
   ]
  },
  {
   "cell_type": "code",
   "execution_count": 9,
   "id": "6a6d8a4f",
   "metadata": {},
   "outputs": [
    {
     "name": "stderr",
     "output_type": "stream",
     "text": [
      "  0%|          | 0/5 [00:00<?, ?it/s]"
     ]
    }
   ],
   "source": [
    "ITERS = 100\n",
    "ITERS = 5 \n",
    "\n",
    "with warnings.catch_warnings():\n",
    "    warnings.simplefilter(\"ignore\")\n",
    "    \n",
    "    rows = []\n",
    "    for i in tqdm.tqdm(range(ITERS)):\n",
    "\n",
    "        # Sample N participants with replacement from each block\n",
    "        pid_sample = []\n",
    "        for block_pids in blocks.values():\n",
    "            pid_sample += random.choices(block_pids, k=len(block_pids))\n",
    "\n",
    "        # Construct a new bootstrapped 'human_df' dataframe from the above sample\n",
    "        tdf = pd.DataFrame([], columns=human_df.columns)\n",
    "        for ps in pid_sample:\n",
    "            ptdf = human_df[human_df[\"pid\"] == ps]\n",
    "            tdf = pd.concat([tdf, ptdf])\n",
    "            \n",
    "        # Construct a new aggregated human ranking dataframe from the above dataframe\n",
    "        sample_human_df = pd.DataFrame({\"sample_human_ranking\": tdf[[\"argument_id\", \"ranking\"]].groupby(\"argument_id\")[\"ranking\"].mean()}).reset_index()\n",
    "        \n",
    "        # Compare model ratings/rankings to sample human rankings\n",
    "        for g, gdf in model_df.groupby([\"domain\", \"conclusion_type\", \"argument_type\"]):\n",
    "            domain, conclusion_type, argument_type = g\n",
    "            \n",
    "            sample_human_model_df = gdf.merge(sample_human_df, on=\"argument_id\")\n",
    "\n",
    "            # Calculate Spearman R for all models\n",
    "            statistics, pvalues = [], []\n",
    "            for model in MODELS:\n",
    "                spearman = spearmanr(\n",
    "                    sample_human_model_df[\"sample_human_ranking\"].tolist(), \n",
    "                    sample_human_model_df[model].tolist()\n",
    "                )\n",
    "                \n",
    "                statistics.append(spearman.correlation)\n",
    "                pvalues.append(spearman.pvalue)\n",
    "\n",
    "            rows.append((i, domain, conclusion_type, argument_type) + tuple(statistics) + tuple(pvalues))\n",
    "\n",
    "bootstrap_df = pd.DataFrame(rows, columns=[\"i\", \"domain\", \"conclusion_type\", \"argument_type\"] + [f\"{r}_spearmanr\" for r in MODELS] + [f\"{r}_pval\" for r in MODELS])\n",
    "bootstrap_df = bootstrap_df.rename({c: f'{c.replace(\"_normalised_rating\", \"\")}' for c in bootstrap_df.columns}, axis=1)\n",
    "bootstrap_df.to_csv(f\"{PROCESSED_DATA}/experiment_2_prompt_sweep_bootstrap_correlations_participantblockwise.csv\")"
   ]
  },
  {
   "cell_type": "code",
   "execution_count": 5,
   "id": "2157e55d",
   "metadata": {},
   "outputs": [
    {
     "name": "stderr",
     "output_type": "stream",
     "text": [
      "100%|██████████| 12/12 [00:00<00:00, 643.86it/s]\n"
     ]
    },
    {
     "data": {
      "text/html": [
       "<div>\n",
       "<style scoped>\n",
       "    .dataframe tbody tr th:only-of-type {\n",
       "        vertical-align: middle;\n",
       "    }\n",
       "\n",
       "    .dataframe tbody tr th {\n",
       "        vertical-align: top;\n",
       "    }\n",
       "\n",
       "    .dataframe thead th {\n",
       "        text-align: right;\n",
       "    }\n",
       "</style>\n",
       "<table border=\"1\" class=\"dataframe\">\n",
       "  <thead>\n",
       "    <tr style=\"text-align: right;\">\n",
       "      <th></th>\n",
       "      <th>domain</th>\n",
       "      <th>conclusion_type</th>\n",
       "      <th>argument_type</th>\n",
       "      <th>gpt3_mean_spearmanr</th>\n",
       "      <th>gpt4_mean_spearmanr</th>\n",
       "      <th>gpt3_scm_mean_spearmanr</th>\n",
       "      <th>gpt4_scm_mean_spearmanr</th>\n",
       "      <th>human_scm_mean_spearmanr</th>\n",
       "      <th>gpt3_se_spearmanr</th>\n",
       "      <th>gpt4_se_spearmanr</th>\n",
       "      <th>gpt3_scm_se_spearmanr</th>\n",
       "      <th>gpt4_scm_se_spearmanr</th>\n",
       "      <th>human_scm_se_spearmanr</th>\n",
       "    </tr>\n",
       "  </thead>\n",
       "  <tbody>\n",
       "    <tr>\n",
       "      <th>0</th>\n",
       "      <td>Birds</td>\n",
       "      <td>General</td>\n",
       "      <td>multi</td>\n",
       "      <td>0.317168</td>\n",
       "      <td>0.243728</td>\n",
       "      <td>-0.019329</td>\n",
       "      <td>0.224663</td>\n",
       "      <td>0.026925</td>\n",
       "      <td>0.072164</td>\n",
       "      <td>0.084235</td>\n",
       "      <td>0.056098</td>\n",
       "      <td>0.076364</td>\n",
       "      <td>0.123740</td>\n",
       "    </tr>\n",
       "    <tr>\n",
       "      <th>1</th>\n",
       "      <td>Birds</td>\n",
       "      <td>General</td>\n",
       "      <td>single</td>\n",
       "      <td>0.442261</td>\n",
       "      <td>0.370583</td>\n",
       "      <td>0.461217</td>\n",
       "      <td>0.581739</td>\n",
       "      <td>0.119130</td>\n",
       "      <td>0.025550</td>\n",
       "      <td>0.046738</td>\n",
       "      <td>0.057568</td>\n",
       "      <td>0.015224</td>\n",
       "      <td>0.043365</td>\n",
       "    </tr>\n",
       "    <tr>\n",
       "      <th>2</th>\n",
       "      <td>Birds</td>\n",
       "      <td>Specific</td>\n",
       "      <td>multi</td>\n",
       "      <td>0.325160</td>\n",
       "      <td>0.246834</td>\n",
       "      <td>0.443209</td>\n",
       "      <td>0.435570</td>\n",
       "      <td>0.378573</td>\n",
       "      <td>0.034819</td>\n",
       "      <td>0.011412</td>\n",
       "      <td>0.025505</td>\n",
       "      <td>0.034821</td>\n",
       "      <td>0.065925</td>\n",
       "    </tr>\n",
       "    <tr>\n",
       "      <th>3</th>\n",
       "      <td>Birds</td>\n",
       "      <td>Specific</td>\n",
       "      <td>single</td>\n",
       "      <td>0.429189</td>\n",
       "      <td>0.418749</td>\n",
       "      <td>0.500589</td>\n",
       "      <td>0.499124</td>\n",
       "      <td>0.552404</td>\n",
       "      <td>0.011068</td>\n",
       "      <td>0.023047</td>\n",
       "      <td>0.014409</td>\n",
       "      <td>0.016312</td>\n",
       "      <td>0.011675</td>\n",
       "    </tr>\n",
       "    <tr>\n",
       "      <th>4</th>\n",
       "      <td>Mammals</td>\n",
       "      <td>General</td>\n",
       "      <td>multi</td>\n",
       "      <td>0.291832</td>\n",
       "      <td>0.158038</td>\n",
       "      <td>0.282538</td>\n",
       "      <td>0.269701</td>\n",
       "      <td>0.334997</td>\n",
       "      <td>0.078500</td>\n",
       "      <td>0.072813</td>\n",
       "      <td>0.067246</td>\n",
       "      <td>0.093754</td>\n",
       "      <td>0.105222</td>\n",
       "    </tr>\n",
       "    <tr>\n",
       "      <th>5</th>\n",
       "      <td>Mammals</td>\n",
       "      <td>General</td>\n",
       "      <td>single</td>\n",
       "      <td>0.317243</td>\n",
       "      <td>0.020437</td>\n",
       "      <td>0.627102</td>\n",
       "      <td>0.726325</td>\n",
       "      <td>0.640234</td>\n",
       "      <td>0.089030</td>\n",
       "      <td>0.026956</td>\n",
       "      <td>0.061572</td>\n",
       "      <td>0.047344</td>\n",
       "      <td>0.050391</td>\n",
       "    </tr>\n",
       "    <tr>\n",
       "      <th>6</th>\n",
       "      <td>Mammals</td>\n",
       "      <td>Specific</td>\n",
       "      <td>multi</td>\n",
       "      <td>0.579871</td>\n",
       "      <td>0.717152</td>\n",
       "      <td>0.712019</td>\n",
       "      <td>0.720395</td>\n",
       "      <td>0.765790</td>\n",
       "      <td>0.031162</td>\n",
       "      <td>0.039049</td>\n",
       "      <td>0.037623</td>\n",
       "      <td>0.035065</td>\n",
       "      <td>0.033553</td>\n",
       "    </tr>\n",
       "    <tr>\n",
       "      <th>7</th>\n",
       "      <td>Mammals</td>\n",
       "      <td>Specific</td>\n",
       "      <td>single</td>\n",
       "      <td>0.589429</td>\n",
       "      <td>0.703619</td>\n",
       "      <td>0.671415</td>\n",
       "      <td>0.720840</td>\n",
       "      <td>0.776784</td>\n",
       "      <td>0.014205</td>\n",
       "      <td>0.013878</td>\n",
       "      <td>0.020092</td>\n",
       "      <td>0.022093</td>\n",
       "      <td>0.015542</td>\n",
       "    </tr>\n",
       "    <tr>\n",
       "      <th>8</th>\n",
       "      <td>Vehicles</td>\n",
       "      <td>General</td>\n",
       "      <td>multi</td>\n",
       "      <td>0.533878</td>\n",
       "      <td>0.366775</td>\n",
       "      <td>0.351941</td>\n",
       "      <td>0.401112</td>\n",
       "      <td>0.510037</td>\n",
       "      <td>0.066270</td>\n",
       "      <td>0.021981</td>\n",
       "      <td>0.072704</td>\n",
       "      <td>0.041836</td>\n",
       "      <td>0.051103</td>\n",
       "    </tr>\n",
       "    <tr>\n",
       "      <th>9</th>\n",
       "      <td>Vehicles</td>\n",
       "      <td>General</td>\n",
       "      <td>single</td>\n",
       "      <td>0.875652</td>\n",
       "      <td>0.629004</td>\n",
       "      <td>0.458087</td>\n",
       "      <td>0.622957</td>\n",
       "      <td>0.872174</td>\n",
       "      <td>0.012526</td>\n",
       "      <td>0.020763</td>\n",
       "      <td>0.052909</td>\n",
       "      <td>0.031441</td>\n",
       "      <td>0.019081</td>\n",
       "    </tr>\n",
       "    <tr>\n",
       "      <th>10</th>\n",
       "      <td>Vehicles</td>\n",
       "      <td>Specific</td>\n",
       "      <td>multi</td>\n",
       "      <td>0.756690</td>\n",
       "      <td>0.803254</td>\n",
       "      <td>0.747349</td>\n",
       "      <td>0.714787</td>\n",
       "      <td>0.762417</td>\n",
       "      <td>0.017819</td>\n",
       "      <td>0.017869</td>\n",
       "      <td>0.017184</td>\n",
       "      <td>0.016282</td>\n",
       "      <td>0.015033</td>\n",
       "    </tr>\n",
       "    <tr>\n",
       "      <th>11</th>\n",
       "      <td>Vehicles</td>\n",
       "      <td>Specific</td>\n",
       "      <td>single</td>\n",
       "      <td>0.747887</td>\n",
       "      <td>0.862919</td>\n",
       "      <td>0.764922</td>\n",
       "      <td>0.770853</td>\n",
       "      <td>0.809045</td>\n",
       "      <td>0.008748</td>\n",
       "      <td>0.009873</td>\n",
       "      <td>0.013941</td>\n",
       "      <td>0.007400</td>\n",
       "      <td>0.009064</td>\n",
       "    </tr>\n",
       "  </tbody>\n",
       "</table>\n",
       "</div>"
      ],
      "text/plain": [
       "      domain conclusion_type argument_type  gpt3_mean_spearmanr  \\\n",
       "0      Birds         General         multi             0.317168   \n",
       "1      Birds         General        single             0.442261   \n",
       "2      Birds        Specific         multi             0.325160   \n",
       "3      Birds        Specific        single             0.429189   \n",
       "4    Mammals         General         multi             0.291832   \n",
       "5    Mammals         General        single             0.317243   \n",
       "6    Mammals        Specific         multi             0.579871   \n",
       "7    Mammals        Specific        single             0.589429   \n",
       "8   Vehicles         General         multi             0.533878   \n",
       "9   Vehicles         General        single             0.875652   \n",
       "10  Vehicles        Specific         multi             0.756690   \n",
       "11  Vehicles        Specific        single             0.747887   \n",
       "\n",
       "    gpt4_mean_spearmanr  gpt3_scm_mean_spearmanr  gpt4_scm_mean_spearmanr  \\\n",
       "0              0.243728                -0.019329                 0.224663   \n",
       "1              0.370583                 0.461217                 0.581739   \n",
       "2              0.246834                 0.443209                 0.435570   \n",
       "3              0.418749                 0.500589                 0.499124   \n",
       "4              0.158038                 0.282538                 0.269701   \n",
       "5              0.020437                 0.627102                 0.726325   \n",
       "6              0.717152                 0.712019                 0.720395   \n",
       "7              0.703619                 0.671415                 0.720840   \n",
       "8              0.366775                 0.351941                 0.401112   \n",
       "9              0.629004                 0.458087                 0.622957   \n",
       "10             0.803254                 0.747349                 0.714787   \n",
       "11             0.862919                 0.764922                 0.770853   \n",
       "\n",
       "    human_scm_mean_spearmanr  gpt3_se_spearmanr  gpt4_se_spearmanr  \\\n",
       "0                   0.026925           0.072164           0.084235   \n",
       "1                   0.119130           0.025550           0.046738   \n",
       "2                   0.378573           0.034819           0.011412   \n",
       "3                   0.552404           0.011068           0.023047   \n",
       "4                   0.334997           0.078500           0.072813   \n",
       "5                   0.640234           0.089030           0.026956   \n",
       "6                   0.765790           0.031162           0.039049   \n",
       "7                   0.776784           0.014205           0.013878   \n",
       "8                   0.510037           0.066270           0.021981   \n",
       "9                   0.872174           0.012526           0.020763   \n",
       "10                  0.762417           0.017819           0.017869   \n",
       "11                  0.809045           0.008748           0.009873   \n",
       "\n",
       "    gpt3_scm_se_spearmanr  gpt4_scm_se_spearmanr  human_scm_se_spearmanr  \n",
       "0                0.056098               0.076364                0.123740  \n",
       "1                0.057568               0.015224                0.043365  \n",
       "2                0.025505               0.034821                0.065925  \n",
       "3                0.014409               0.016312                0.011675  \n",
       "4                0.067246               0.093754                0.105222  \n",
       "5                0.061572               0.047344                0.050391  \n",
       "6                0.037623               0.035065                0.033553  \n",
       "7                0.020092               0.022093                0.015542  \n",
       "8                0.072704               0.041836                0.051103  \n",
       "9                0.052909               0.031441                0.019081  \n",
       "10               0.017184               0.016282                0.015033  \n",
       "11               0.013941               0.007400                0.009064  "
      ]
     },
     "execution_count": 5,
     "metadata": {},
     "output_type": "execute_result"
    }
   ],
   "source": [
    "bootstrap_df = pd.read_csv(f\"{PROCESSED_DATA}/experiment_2_prompt_sweep_bootstrap_correlations_participantblockwise.csv\", index_col=0)\n",
    "\n",
    "rows = []\n",
    "for g, gdf in tqdm.tqdm(bootstrap_df.groupby([\"domain\", \"conclusion_type\", \"argument_type\"])):\n",
    "    means, ses = [], []\n",
    "    for model in MODELS:\n",
    "        model = model.replace(\"_normalised_rating\", \"\")\n",
    "        means.append(np.mean(gdf[f\"{model}_spearmanr\"]))\n",
    "        ses.append(np.std(gdf[f\"{model}_spearmanr\"], ddof=1))\n",
    "    rows.append(g + tuple(means) + tuple(ses))\n",
    "\n",
    "bootstrap_summary_df = pd.DataFrame(rows, columns=[\"domain\", \"conclusion_type\", \"argument_type\"] + [f\"{m}_mean\" for m in MODELS] + [f\"{m}_se\" for m in MODELS])\n",
    "bootstrap_summary_df = bootstrap_summary_df.rename({c: f'{c.replace(\"_normalised_rating\", \"\")}_spearmanr' if \"gpt\" in c or \"scm\" in c else c for c in bootstrap_summary_df.columns}, axis=1)\n",
    "bootstrap_summary_df.to_csv(f\"{PROCESSED_DATA}/experiment_2_prompt_sweep_bootstrap_correlations_participantblockwise_summary.csv\")\n",
    "bootstrap_summary_df"
   ]
  },
  {
   "cell_type": "markdown",
   "id": "91b22434",
   "metadata": {},
   "source": [
    "# Calculate Split-half Reliability"
   ]
  },
  {
   "cell_type": "code",
   "execution_count": 6,
   "id": "710456f1",
   "metadata": {},
   "outputs": [
    {
     "name": "stderr",
     "output_type": "stream",
     "text": [
      "100%|██████████| 5/5 [00:11<00:00,  2.38s/it]\n"
     ]
    }
   ],
   "source": [
    "ITERS = 100\n",
    "ITERS = 5 \n",
    "\n",
    "with warnings.catch_warnings():\n",
    "    warnings.simplefilter(\"ignore\")\n",
    "\n",
    "    rows = []\n",
    "    for i in tqdm.tqdm(range(ITERS)):\n",
    "        for group, grouped_human_df in human_df.groupby([\"domain\", \"conclusion_type\", \"is_single_premise\"]):\n",
    "            domain, conclusion_type, is_single_premise = group\n",
    "            a_ratings = pd.DataFrame([], columns=[\"argument_id\", \"domain\", \"conclusion_type\", \"is_single_premise\", \"a_rating\", \"a_ranking\"])\n",
    "            b_ratings = pd.DataFrame([], columns=[\"argument_id\", \"domain\", \"conclusion_type\", \"is_single_premise\", \"b_rating\", \"b_ranking\"])\n",
    "    \n",
    "            # Split each block of participants in two\n",
    "            for block, block_df in grouped_human_df.groupby(\"block\"):\n",
    "\n",
    "                # Randomly divide this block's participants into sets A and B\n",
    "                block_pids = list(block_df[\"pid\"].unique())\n",
    "                a_pids = random.sample(block_pids, k=len(block_pids)//2)\n",
    "                b_pids = [bp for bp in block_pids if bp not in a_pids]\n",
    "                a_block_df = block_df[block_df[\"pid\"].isin(a_pids)]\n",
    "                b_block_df = block_df[block_df[\"pid\"].isin(b_pids)]\n",
    "\n",
    "                # Calculated mean argument ranking for A and B\n",
    "                a_block_ratings = pd.DataFrame({\"a_ranking\": a_block_df.groupby([\"argument_id\", \"domain\", \"conclusion_type\", \"is_single_premise\"])[\"ranking\"].mean()}).reset_index()\n",
    "                b_block_ratings = pd.DataFrame({\"b_ranking\": b_block_df.groupby([\"argument_id\", \"domain\", \"conclusion_type\", \"is_single_premise\"])[\"ranking\"].mean()}).reset_index()\n",
    "                a_ratings = pd.concat([a_ratings, a_block_ratings]).reset_index(drop=True)\n",
    "                b_ratings = pd.concat([b_ratings, b_block_ratings]).reset_index(drop=True)\n",
    "\n",
    "            # Calculate correlation between A and B rankings\n",
    "            t_ratings_df = a_ratings.merge(b_ratings, on=[\"argument_id\", \"domain\", \"conclusion_type\", \"is_single_premise\"])\n",
    "            ss = spearmanr(t_ratings_df[\"a_ranking\"], t_ratings_df[\"b_ranking\"])\n",
    "            rows.append((i,domain,conclusion_type,is_single_premise,ss.correlation,ss.pvalue))\n",
    "\n",
    "ratings_df = pd.DataFrame(rows, columns=[\"i\", \"domain\", \"conclusion_type\", \"is_single_premise\", \"statistic\", \"pvalue\"])\n",
    "ratings_df.to_csv(f\"{PROCESSED_DATA}/e2_split_half_reliabilities_blockwise.csv\")"
   ]
  },
  {
   "cell_type": "code",
   "execution_count": 7,
   "id": "d899cc5a",
   "metadata": {},
   "outputs": [
    {
     "data": {
      "text/html": [
       "<div>\n",
       "<style scoped>\n",
       "    .dataframe tbody tr th:only-of-type {\n",
       "        vertical-align: middle;\n",
       "    }\n",
       "\n",
       "    .dataframe tbody tr th {\n",
       "        vertical-align: top;\n",
       "    }\n",
       "\n",
       "    .dataframe thead th {\n",
       "        text-align: right;\n",
       "    }\n",
       "</style>\n",
       "<table border=\"1\" class=\"dataframe\">\n",
       "  <thead>\n",
       "    <tr style=\"text-align: right;\">\n",
       "      <th></th>\n",
       "      <th>domain</th>\n",
       "      <th>conclusion_type</th>\n",
       "      <th>is_single_premise</th>\n",
       "      <th>spearmanr_mean</th>\n",
       "      <th>spearmanr_std</th>\n",
       "    </tr>\n",
       "  </thead>\n",
       "  <tbody>\n",
       "    <tr>\n",
       "      <th>0</th>\n",
       "      <td>Birds</td>\n",
       "      <td>General</td>\n",
       "      <td>False</td>\n",
       "      <td>0.124096</td>\n",
       "      <td>0.057336</td>\n",
       "    </tr>\n",
       "    <tr>\n",
       "      <th>1</th>\n",
       "      <td>Birds</td>\n",
       "      <td>General</td>\n",
       "      <td>True</td>\n",
       "      <td>0.160775</td>\n",
       "      <td>0.017047</td>\n",
       "    </tr>\n",
       "    <tr>\n",
       "      <th>2</th>\n",
       "      <td>Birds</td>\n",
       "      <td>Specific</td>\n",
       "      <td>False</td>\n",
       "      <td>0.282848</td>\n",
       "      <td>0.049961</td>\n",
       "    </tr>\n",
       "    <tr>\n",
       "      <th>3</th>\n",
       "      <td>Birds</td>\n",
       "      <td>Specific</td>\n",
       "      <td>True</td>\n",
       "      <td>0.688910</td>\n",
       "      <td>0.021108</td>\n",
       "    </tr>\n",
       "    <tr>\n",
       "      <th>4</th>\n",
       "      <td>Mammals</td>\n",
       "      <td>General</td>\n",
       "      <td>False</td>\n",
       "      <td>0.149761</td>\n",
       "      <td>0.090976</td>\n",
       "    </tr>\n",
       "    <tr>\n",
       "      <th>5</th>\n",
       "      <td>Mammals</td>\n",
       "      <td>General</td>\n",
       "      <td>True</td>\n",
       "      <td>0.202847</td>\n",
       "      <td>0.020258</td>\n",
       "    </tr>\n",
       "    <tr>\n",
       "      <th>6</th>\n",
       "      <td>Mammals</td>\n",
       "      <td>Specific</td>\n",
       "      <td>False</td>\n",
       "      <td>0.443075</td>\n",
       "      <td>0.037939</td>\n",
       "    </tr>\n",
       "    <tr>\n",
       "      <th>7</th>\n",
       "      <td>Mammals</td>\n",
       "      <td>Specific</td>\n",
       "      <td>True</td>\n",
       "      <td>0.815847</td>\n",
       "      <td>0.005856</td>\n",
       "    </tr>\n",
       "    <tr>\n",
       "      <th>8</th>\n",
       "      <td>Vehicles</td>\n",
       "      <td>General</td>\n",
       "      <td>False</td>\n",
       "      <td>0.338872</td>\n",
       "      <td>0.040009</td>\n",
       "    </tr>\n",
       "    <tr>\n",
       "      <th>9</th>\n",
       "      <td>Vehicles</td>\n",
       "      <td>General</td>\n",
       "      <td>True</td>\n",
       "      <td>0.629368</td>\n",
       "      <td>0.020778</td>\n",
       "    </tr>\n",
       "    <tr>\n",
       "      <th>10</th>\n",
       "      <td>Vehicles</td>\n",
       "      <td>Specific</td>\n",
       "      <td>False</td>\n",
       "      <td>0.741672</td>\n",
       "      <td>0.038136</td>\n",
       "    </tr>\n",
       "    <tr>\n",
       "      <th>11</th>\n",
       "      <td>Vehicles</td>\n",
       "      <td>Specific</td>\n",
       "      <td>True</td>\n",
       "      <td>0.865910</td>\n",
       "      <td>0.005604</td>\n",
       "    </tr>\n",
       "  </tbody>\n",
       "</table>\n",
       "</div>"
      ],
      "text/plain": [
       "      domain conclusion_type  is_single_premise  spearmanr_mean  spearmanr_std\n",
       "0      Birds         General              False        0.124096       0.057336\n",
       "1      Birds         General               True        0.160775       0.017047\n",
       "2      Birds        Specific              False        0.282848       0.049961\n",
       "3      Birds        Specific               True        0.688910       0.021108\n",
       "4    Mammals         General              False        0.149761       0.090976\n",
       "5    Mammals         General               True        0.202847       0.020258\n",
       "6    Mammals        Specific              False        0.443075       0.037939\n",
       "7    Mammals        Specific               True        0.815847       0.005856\n",
       "8   Vehicles         General              False        0.338872       0.040009\n",
       "9   Vehicles         General               True        0.629368       0.020778\n",
       "10  Vehicles        Specific              False        0.741672       0.038136\n",
       "11  Vehicles        Specific               True        0.865910       0.005604"
      ]
     },
     "execution_count": 7,
     "metadata": {},
     "output_type": "execute_result"
    }
   ],
   "source": [
    "ratings_df = pd.read_csv(f\"{PROCESSED_DATA}/e2_split_half_reliabilities_blockwise.csv\")\n",
    "\n",
    "rows = []\n",
    "for g, gdf in ratings_df.groupby([\"domain\", \"conclusion_type\", \"is_single_premise\"]):\n",
    "    rows.append(g + (gdf[\"statistic\"].mean(), gdf[\"statistic\"].std()))\n",
    "summary_ratings_df = pd.DataFrame(rows, columns=[\"domain\", \"conclusion_type\", \"is_single_premise\", \"spearmanr_mean\", \"spearmanr_std\"])\n",
    "\n",
    "summary_ratings_df.to_csv(f\"{PROCESSED_DATA}/e2_split_half_reliabilities_blockwise_summary.csv\")\n",
    "summary_ratings_df"
   ]
  },
  {
   "cell_type": "markdown",
   "id": "e713fef2",
   "metadata": {},
   "source": [
    "# Plot bootstrapped model correlations + split half reliability"
   ]
  },
  {
   "cell_type": "code",
   "execution_count": 8,
   "id": "eca7e9fd",
   "metadata": {},
   "outputs": [
    {
     "name": "stderr",
     "output_type": "stream",
     "text": [
      "/var/folders/_j/g5_z9x094bd51f7cbc6rw71h0000gp/T/ipykernel_84545/3644118933.py:66: SettingWithCopyWarning:\n",
      "\n",
      "\n",
      "A value is trying to be set on a copy of a slice from a DataFrame.\n",
      "Try using .loc[row_indexer,col_indexer] = value instead\n",
      "\n",
      "See the caveats in the documentation: https://pandas.pydata.org/pandas-docs/stable/user_guide/indexing.html#returning-a-view-versus-a-copy\n",
      "\n",
      "/var/folders/_j/g5_z9x094bd51f7cbc6rw71h0000gp/T/ipykernel_84545/3644118933.py:66: SettingWithCopyWarning:\n",
      "\n",
      "\n",
      "A value is trying to be set on a copy of a slice from a DataFrame.\n",
      "Try using .loc[row_indexer,col_indexer] = value instead\n",
      "\n",
      "See the caveats in the documentation: https://pandas.pydata.org/pandas-docs/stable/user_guide/indexing.html#returning-a-view-versus-a-copy\n",
      "\n",
      "/var/folders/_j/g5_z9x094bd51f7cbc6rw71h0000gp/T/ipykernel_84545/3644118933.py:66: SettingWithCopyWarning:\n",
      "\n",
      "\n",
      "A value is trying to be set on a copy of a slice from a DataFrame.\n",
      "Try using .loc[row_indexer,col_indexer] = value instead\n",
      "\n",
      "See the caveats in the documentation: https://pandas.pydata.org/pandas-docs/stable/user_guide/indexing.html#returning-a-view-versus-a-copy\n",
      "\n",
      "/var/folders/_j/g5_z9x094bd51f7cbc6rw71h0000gp/T/ipykernel_84545/3644118933.py:66: SettingWithCopyWarning:\n",
      "\n",
      "\n",
      "A value is trying to be set on a copy of a slice from a DataFrame.\n",
      "Try using .loc[row_indexer,col_indexer] = value instead\n",
      "\n",
      "See the caveats in the documentation: https://pandas.pydata.org/pandas-docs/stable/user_guide/indexing.html#returning-a-view-versus-a-copy\n",
      "\n"
     ]
    },
    {
     "data": {
      "application/vnd.plotly.v1+json": {
       "config": {
        "plotlyServerURL": "https://plot.ly"
       },
       "data": [
        {
         "customdata": [
          "Birds",
          "Mammals",
          "Vehicles"
         ],
         "error_y": {
          "array": [
           0.0110682686715925,
           0.0142048710148908,
           0.0087478113691436
          ],
          "color": "green",
          "symmetric": true,
          "thickness": 5,
          "type": "data",
          "visible": true,
          "width": 7
         },
         "hovertemplate": "%{customdata}<br>%{y}",
         "legendgroup": "gpt3_mean_spearmanr",
         "marker": {
          "color": "green",
          "size": 20
         },
         "mode": "markers",
         "name": "GPT-3",
         "showlegend": true,
         "texttemplate": "%{customdata}<br>%{y}",
         "type": "scatter",
         "x": [
          1.8,
          0.8,
          2.8
         ],
         "xaxis": "x",
         "y": [
          0.4291890515841505,
          0.5894291799720973,
          0.7478872965050166
         ],
         "yaxis": "y"
        },
        {
         "customdata": [
          "Birds",
          "Mammals",
          "Vehicles"
         ],
         "error_y": {
          "array": [
           0.014409108651681,
           0.0200920111934662,
           0.0139410807383582
          ],
          "color": "#94d1a4",
          "symmetric": true,
          "thickness": 5,
          "type": "data",
          "visible": true,
          "width": 7
         },
         "hovertemplate": "%{customdata}<br>%{y}",
         "legendgroup": "gpt3_scm_mean_spearmanr",
         "marker": {
          "color": "#94d1a4",
          "size": 20
         },
         "mode": "markers",
         "name": "GPT-3 SCM",
         "showlegend": true,
         "texttemplate": "%{customdata}<br>%{y}",
         "type": "scatter",
         "x": [
          1.9,
          0.9,
          2.9
         ],
         "xaxis": "x",
         "y": [
          0.5005888784135812,
          0.6714151912808065,
          0.7649216903882846
         ],
         "yaxis": "y"
        },
        {
         "customdata": [
          "Birds",
          "Mammals",
          "Vehicles"
         ],
         "error_y": {
          "array": [
           0.0230473998834646,
           0.0138783731988841,
           0.0098733150603061
          ],
          "color": "red",
          "symmetric": true,
          "thickness": 5,
          "type": "data",
          "visible": true,
          "width": 7
         },
         "hovertemplate": "%{customdata}<br>%{y}",
         "legendgroup": "gpt4_mean_spearmanr",
         "marker": {
          "color": "red",
          "size": 20
         },
         "mode": "markers",
         "name": "GPT-4",
         "showlegend": true,
         "texttemplate": "%{customdata}<br>%{y}",
         "type": "scatter",
         "x": [
          2,
          1,
          3
         ],
         "xaxis": "x",
         "y": [
          0.418748871948385,
          0.7036191024448621,
          0.8629185281263766
         ],
         "yaxis": "y"
        },
        {
         "customdata": [
          "Birds",
          "Mammals",
          "Vehicles"
         ],
         "error_y": {
          "array": [
           0.0163121117011954,
           0.0220934565209081,
           0.007400254918033
          ],
          "color": "pink",
          "symmetric": true,
          "thickness": 5,
          "type": "data",
          "visible": true,
          "width": 7
         },
         "hovertemplate": "%{customdata}<br>%{y}",
         "legendgroup": "gpt4_scm_mean_spearmanr",
         "marker": {
          "color": "pink",
          "size": 20
         },
         "mode": "markers",
         "name": "GPT-4 SCM",
         "showlegend": true,
         "texttemplate": "%{customdata}<br>%{y}",
         "type": "scatter",
         "x": [
          2.1,
          1.1,
          3.1
         ],
         "xaxis": "x",
         "y": [
          0.4991240482569199,
          0.7208404903488429,
          0.7708528849404108
         ],
         "yaxis": "y"
        },
        {
         "customdata": [
          "Birds",
          "Mammals",
          "Vehicles"
         ],
         "error_y": {
          "array": [
           0.0116747310317787,
           0.0155418220825236,
           0.009064448695484
          ],
          "color": "blue",
          "symmetric": true,
          "thickness": 5,
          "type": "data",
          "visible": true,
          "width": 7
         },
         "hovertemplate": "%{customdata}<br>%{y}",
         "legendgroup": "human_scm_mean_spearmanr",
         "marker": {
          "color": "blue",
          "size": 20
         },
         "mode": "markers",
         "name": "human SCM",
         "showlegend": true,
         "texttemplate": "%{customdata}<br>%{y}",
         "type": "scatter",
         "x": [
          2.2,
          1.2,
          3.2
         ],
         "xaxis": "x",
         "y": [
          0.5524042573397387,
          0.7767841196619638,
          0.8090448191742932
         ],
         "yaxis": "y"
        },
        {
         "customdata": [
          "Birds",
          "Mammals",
          "Vehicles"
         ],
         "error_y": {
          "array": [
           0.025549536746824,
           0.0890299661586972,
           0.0125259654703372
          ],
          "color": "green",
          "symmetric": true,
          "thickness": 5,
          "type": "data",
          "visible": true,
          "width": 7
         },
         "hovertemplate": "%{customdata}<br>%{y}",
         "legendgroup": "gpt3_mean_spearmanr",
         "marker": {
          "color": "green",
          "size": 20
         },
         "mode": "markers",
         "name": "GPT-3",
         "showlegend": false,
         "texttemplate": "%{customdata}<br>%{y}",
         "type": "scatter",
         "x": [
          1.8,
          0.8,
          2.8
         ],
         "xaxis": "x2",
         "y": [
          0.4422608695652174,
          0.3172433439590074,
          0.8756521739130434
         ],
         "yaxis": "y2"
        },
        {
         "customdata": [
          "Birds",
          "Mammals",
          "Vehicles"
         ],
         "error_y": {
          "array": [
           0.0575675817194743,
           0.0615715679505889,
           0.0529093100036861
          ],
          "color": "#94d1a4",
          "symmetric": true,
          "thickness": 5,
          "type": "data",
          "visible": true,
          "width": 7
         },
         "hovertemplate": "%{customdata}<br>%{y}",
         "legendgroup": "gpt3_scm_mean_spearmanr",
         "marker": {
          "color": "#94d1a4",
          "size": 20
         },
         "mode": "markers",
         "name": "GPT-3 SCM",
         "showlegend": false,
         "texttemplate": "%{customdata}<br>%{y}",
         "type": "scatter",
         "x": [
          1.9,
          0.9,
          2.9
         ],
         "xaxis": "x2",
         "y": [
          0.4612173913043477,
          0.6271017014904923,
          0.4580869565217391
         ],
         "yaxis": "y2"
        },
        {
         "customdata": [
          "Birds",
          "Mammals",
          "Vehicles"
         ],
         "error_y": {
          "array": [
           0.0467384869888606,
           0.0269560181804462,
           0.0207627923010615
          ],
          "color": "red",
          "symmetric": true,
          "thickness": 5,
          "type": "data",
          "visible": true,
          "width": 7
         },
         "hovertemplate": "%{customdata}<br>%{y}",
         "legendgroup": "gpt4_mean_spearmanr",
         "marker": {
          "color": "red",
          "size": 20
         },
         "mode": "markers",
         "name": "GPT-4",
         "showlegend": false,
         "texttemplate": "%{customdata}<br>%{y}",
         "type": "scatter",
         "x": [
          2,
          1,
          3
         ],
         "xaxis": "x2",
         "y": [
          0.3705831319791955,
          0.0204365860834991,
          0.629004405742173
         ],
         "yaxis": "y2"
        },
        {
         "customdata": [
          "Birds",
          "Mammals",
          "Vehicles"
         ],
         "error_y": {
          "array": [
           0.0152236012174013,
           0.0473441538804132,
           0.0314405250633174
          ],
          "color": "pink",
          "symmetric": true,
          "thickness": 5,
          "type": "data",
          "visible": true,
          "width": 7
         },
         "hovertemplate": "%{customdata}<br>%{y}",
         "legendgroup": "gpt4_scm_mean_spearmanr",
         "marker": {
          "color": "pink",
          "size": 20
         },
         "mode": "markers",
         "name": "GPT-4 SCM",
         "showlegend": false,
         "texttemplate": "%{customdata}<br>%{y}",
         "type": "scatter",
         "x": [
          2.1,
          1.1,
          3.1
         ],
         "xaxis": "x2",
         "y": [
          0.5817391304347825,
          0.7263247297416976,
          0.6229565217391304
         ],
         "yaxis": "y2"
        },
        {
         "customdata": [
          "Birds",
          "Mammals",
          "Vehicles"
         ],
         "error_y": {
          "array": [
           0.0433650700514493,
           0.0503908307269932,
           0.0190809637021666
          ],
          "color": "blue",
          "symmetric": true,
          "thickness": 5,
          "type": "data",
          "visible": true,
          "width": 7
         },
         "hovertemplate": "%{customdata}<br>%{y}",
         "legendgroup": "human_scm_mean_spearmanr",
         "marker": {
          "color": "blue",
          "size": 20
         },
         "mode": "markers",
         "name": "human SCM",
         "showlegend": false,
         "texttemplate": "%{customdata}<br>%{y}",
         "type": "scatter",
         "x": [
          2.2,
          1.2,
          3.2
         ],
         "xaxis": "x2",
         "y": [
          0.1191304347826086,
          0.6402343683527292,
          0.8721739130434782
         ],
         "yaxis": "y2"
        },
        {
         "customdata": [
          "Birds",
          "Mammals",
          "Vehicles"
         ],
         "error_y": {
          "array": [
           0.0348187780374609,
           0.0311621017027151,
           0.0178192426403739
          ],
          "color": "green",
          "symmetric": true,
          "thickness": 5,
          "type": "data",
          "visible": true,
          "width": 7
         },
         "hovertemplate": "%{customdata}<br>%{y}",
         "legendgroup": "gpt3_mean_spearmanr",
         "marker": {
          "color": "green",
          "size": 20
         },
         "mode": "markers",
         "name": "GPT-3",
         "showlegend": false,
         "texttemplate": "%{customdata}<br>%{y}",
         "type": "scatter",
         "x": [
          1.8,
          0.8,
          2.8
         ],
         "xaxis": "x3",
         "y": [
          0.3251604826384391,
          0.579870774295827,
          0.7566897887536788
         ],
         "yaxis": "y3"
        },
        {
         "customdata": [
          "Birds",
          "Mammals",
          "Vehicles"
         ],
         "error_y": {
          "array": [
           0.0255048590336453,
           0.0376232045344704,
           0.0171838284261726
          ],
          "color": "#94d1a4",
          "symmetric": true,
          "thickness": 5,
          "type": "data",
          "visible": true,
          "width": 7
         },
         "hovertemplate": "%{customdata}<br>%{y}",
         "legendgroup": "gpt3_scm_mean_spearmanr",
         "marker": {
          "color": "#94d1a4",
          "size": 20
         },
         "mode": "markers",
         "name": "GPT-3 SCM",
         "showlegend": false,
         "texttemplate": "%{customdata}<br>%{y}",
         "type": "scatter",
         "x": [
          1.9,
          0.9,
          2.9
         ],
         "xaxis": "x3",
         "y": [
          0.4432093322788544,
          0.7120187709157557,
          0.7473487105363125
         ],
         "yaxis": "y3"
        },
        {
         "customdata": [
          "Birds",
          "Mammals",
          "Vehicles"
         ],
         "error_y": {
          "array": [
           0.0114117979826044,
           0.0390493284285706,
           0.0178692724526911
          ],
          "color": "red",
          "symmetric": true,
          "thickness": 5,
          "type": "data",
          "visible": true,
          "width": 7
         },
         "hovertemplate": "%{customdata}<br>%{y}",
         "legendgroup": "gpt4_mean_spearmanr",
         "marker": {
          "color": "red",
          "size": 20
         },
         "mode": "markers",
         "name": "GPT-4",
         "showlegend": false,
         "texttemplate": "%{customdata}<br>%{y}",
         "type": "scatter",
         "x": [
          2,
          1,
          3
         ],
         "xaxis": "x3",
         "y": [
          0.2468341792553299,
          0.7171519780806515,
          0.8032536567795583
         ],
         "yaxis": "y3"
        },
        {
         "customdata": [
          "Birds",
          "Mammals",
          "Vehicles"
         ],
         "error_y": {
          "array": [
           0.0348205092518976,
           0.0350645711489648,
           0.0162817060966894
          ],
          "color": "pink",
          "symmetric": true,
          "thickness": 5,
          "type": "data",
          "visible": true,
          "width": 7
         },
         "hovertemplate": "%{customdata}<br>%{y}",
         "legendgroup": "gpt4_scm_mean_spearmanr",
         "marker": {
          "color": "pink",
          "size": 20
         },
         "mode": "markers",
         "name": "GPT-4 SCM",
         "showlegend": false,
         "texttemplate": "%{customdata}<br>%{y}",
         "type": "scatter",
         "x": [
          2.1,
          1.1,
          3.1
         ],
         "xaxis": "x3",
         "y": [
          0.4355704976703164,
          0.7203947148962271,
          0.714787235351581
         ],
         "yaxis": "y3"
        },
        {
         "customdata": [
          "Birds",
          "Mammals",
          "Vehicles"
         ],
         "error_y": {
          "array": [
           0.0659254407357343,
           0.0335532916653222,
           0.0150330617476446
          ],
          "color": "blue",
          "symmetric": true,
          "thickness": 5,
          "type": "data",
          "visible": true,
          "width": 7
         },
         "hovertemplate": "%{customdata}<br>%{y}",
         "legendgroup": "human_scm_mean_spearmanr",
         "marker": {
          "color": "blue",
          "size": 20
         },
         "mode": "markers",
         "name": "human SCM",
         "showlegend": false,
         "texttemplate": "%{customdata}<br>%{y}",
         "type": "scatter",
         "x": [
          2.2,
          1.2,
          3.2
         ],
         "xaxis": "x3",
         "y": [
          0.378572692474178,
          0.7657903177529128,
          0.7624170489014166
         ],
         "yaxis": "y3"
        },
        {
         "customdata": [
          "Birds",
          "Mammals",
          "Vehicles"
         ],
         "error_y": {
          "array": [
           0.0721644474629408,
           0.0785003492154751,
           0.0662703811723858
          ],
          "color": "green",
          "symmetric": true,
          "thickness": 5,
          "type": "data",
          "visible": true,
          "width": 7
         },
         "hovertemplate": "%{customdata}<br>%{y}",
         "legendgroup": "gpt3_mean_spearmanr",
         "marker": {
          "color": "green",
          "size": 20
         },
         "mode": "markers",
         "name": "GPT-3",
         "showlegend": false,
         "texttemplate": "%{customdata}<br>%{y}",
         "type": "scatter",
         "x": [
          1.8,
          0.8,
          2.8
         ],
         "xaxis": "x4",
         "y": [
          0.3171677101358056,
          0.2918316128588961,
          0.533877789492717
         ],
         "yaxis": "y4"
        },
        {
         "customdata": [
          "Birds",
          "Mammals",
          "Vehicles"
         ],
         "error_y": {
          "array": [
           0.0560979298502986,
           0.0672464206282731,
           0.0727039823921531
          ],
          "color": "#94d1a4",
          "symmetric": true,
          "thickness": 5,
          "type": "data",
          "visible": true,
          "width": 7
         },
         "hovertemplate": "%{customdata}<br>%{y}",
         "legendgroup": "gpt3_scm_mean_spearmanr",
         "marker": {
          "color": "#94d1a4",
          "size": 20
         },
         "mode": "markers",
         "name": "GPT-3 SCM",
         "showlegend": false,
         "texttemplate": "%{customdata}<br>%{y}",
         "type": "scatter",
         "x": [
          1.9,
          0.9,
          2.9
         ],
         "xaxis": "x4",
         "y": [
          -0.0193286230864668,
          0.2825378813025566,
          0.3519414170203415
         ],
         "yaxis": "y4"
        },
        {
         "customdata": [
          "Birds",
          "Mammals",
          "Vehicles"
         ],
         "error_y": {
          "array": [
           0.084235446566104,
           0.0728134622701021,
           0.0219812810824281
          ],
          "color": "red",
          "symmetric": true,
          "thickness": 5,
          "type": "data",
          "visible": true,
          "width": 7
         },
         "hovertemplate": "%{customdata}<br>%{y}",
         "legendgroup": "gpt4_mean_spearmanr",
         "marker": {
          "color": "red",
          "size": 20
         },
         "mode": "markers",
         "name": "GPT-4",
         "showlegend": false,
         "texttemplate": "%{customdata}<br>%{y}",
         "type": "scatter",
         "x": [
          2,
          1,
          3
         ],
         "xaxis": "x4",
         "y": [
          0.2437276032339005,
          0.1580382811144444,
          0.3667745249855917
         ],
         "yaxis": "y4"
        },
        {
         "customdata": [
          "Birds",
          "Mammals",
          "Vehicles"
         ],
         "error_y": {
          "array": [
           0.0763640325987878,
           0.0937537668031962,
           0.0418363146574545
          ],
          "color": "pink",
          "symmetric": true,
          "thickness": 5,
          "type": "data",
          "visible": true,
          "width": 7
         },
         "hovertemplate": "%{customdata}<br>%{y}",
         "legendgroup": "gpt4_scm_mean_spearmanr",
         "marker": {
          "color": "pink",
          "size": 20
         },
         "mode": "markers",
         "name": "GPT-4 SCM",
         "showlegend": false,
         "texttemplate": "%{customdata}<br>%{y}",
         "type": "scatter",
         "x": [
          2.1,
          1.1,
          3.1
         ],
         "xaxis": "x4",
         "y": [
          0.224662692749341,
          0.2697006987492083,
          0.4011120855936727
         ],
         "yaxis": "y4"
        },
        {
         "customdata": [
          "Birds",
          "Mammals",
          "Vehicles"
         ],
         "error_y": {
          "array": [
           0.1237395614465664,
           0.105221589615818,
           0.0511030767702493
          ],
          "color": "blue",
          "symmetric": true,
          "thickness": 5,
          "type": "data",
          "visible": true,
          "width": 7
         },
         "hovertemplate": "%{customdata}<br>%{y}",
         "legendgroup": "human_scm_mean_spearmanr",
         "marker": {
          "color": "blue",
          "size": 20
         },
         "mode": "markers",
         "name": "human SCM",
         "showlegend": false,
         "texttemplate": "%{customdata}<br>%{y}",
         "type": "scatter",
         "x": [
          2.2,
          1.2,
          3.2
         ],
         "xaxis": "x4",
         "y": [
          0.0269251569300245,
          0.3349973732123367,
          0.5100372917888677
         ],
         "yaxis": "y4"
        }
       ],
       "layout": {
        "annotations": [
         {
          "font": {
           "size": 24
          },
          "showarrow": false,
          "text": "<b>Specific, Single Premise</b>",
          "x": 0.245,
          "xanchor": "center",
          "xref": "paper",
          "y": 1,
          "yanchor": "bottom",
          "yref": "paper"
         },
         {
          "font": {
           "size": 24
          },
          "showarrow": false,
          "text": "<b>General, Single Premise</b>",
          "x": 0.755,
          "xanchor": "center",
          "xref": "paper",
          "y": 1,
          "yanchor": "bottom",
          "yref": "paper"
         },
         {
          "font": {
           "size": 24
          },
          "showarrow": false,
          "text": "<b>Specific, Two Premise</b>",
          "x": 0.245,
          "xanchor": "center",
          "xref": "paper",
          "y": 0.475,
          "yanchor": "bottom",
          "yref": "paper"
         },
         {
          "font": {
           "size": 24
          },
          "showarrow": false,
          "text": "<b>General, Two Premise</b>",
          "x": 0.755,
          "xanchor": "center",
          "xref": "paper",
          "y": 0.475,
          "yanchor": "bottom",
          "yref": "paper"
         }
        ],
        "height": 800,
        "legend": {
         "font": {
          "size": 20
         },
         "orientation": "v",
         "x": 1.13,
         "xanchor": "right",
         "yanchor": "top"
        },
        "plot_bgcolor": "#f5f6f7",
        "shapes": [
         {
          "fillcolor": "#cbc9ff",
          "layer": "below",
          "line": {
           "width": 0
          },
          "type": "rect",
          "x0": 1.75,
          "x1": 2.25,
          "xref": "x",
          "y0": 0.7100185872353492,
          "y1": 0.6678021788244236,
          "yref": "y"
         },
         {
          "fillcolor": "#cbc9ff",
          "layer": "below",
          "line": {
           "width": 0
          },
          "type": "rect",
          "x0": 0.75,
          "x1": 1.25,
          "xref": "x",
          "y0": 0.8217028564334188,
          "y1": 0.8099903833659818,
          "yref": "y"
         },
         {
          "fillcolor": "#cbc9ff",
          "layer": "below",
          "line": {
           "width": 0
          },
          "type": "rect",
          "x0": 2.75,
          "x1": 3.25,
          "xref": "x",
          "y0": 0.8715139230119353,
          "y1": 0.860306676195481,
          "yref": "y"
         },
         {
          "fillcolor": "#cbc9ff",
          "layer": "below",
          "line": {
           "width": 0
          },
          "type": "rect",
          "x0": 1.75,
          "x1": 2.25,
          "xref": "x2",
          "y0": 0.1778222286015439,
          "y1": 0.1437279871345445,
          "yref": "y2"
         },
         {
          "fillcolor": "#cbc9ff",
          "layer": "below",
          "line": {
           "width": 0
          },
          "type": "rect",
          "x0": 0.75,
          "x1": 1.25,
          "xref": "x2",
          "y0": 0.2231054227502795,
          "y1": 0.18258870006796712,
          "yref": "y2"
         },
         {
          "fillcolor": "#cbc9ff",
          "layer": "below",
          "line": {
           "width": 0
          },
          "type": "rect",
          "x0": 2.75,
          "x1": 3.25,
          "xref": "x2",
          "y0": 0.6501453980601396,
          "y1": 0.6085901535361696,
          "yref": "y2"
         },
         {
          "fillcolor": "#cbc9ff",
          "layer": "below",
          "line": {
           "width": 0
          },
          "type": "rect",
          "x0": 1.75,
          "x1": 2.25,
          "xref": "x3",
          "y0": 0.3328094291462237,
          "y1": 0.2328868980855313,
          "yref": "y3"
         },
         {
          "fillcolor": "#cbc9ff",
          "layer": "below",
          "line": {
           "width": 0
          },
          "type": "rect",
          "x0": 0.75,
          "x1": 1.25,
          "xref": "x3",
          "y0": 0.4810139981383506,
          "y1": 0.40513520718772117,
          "yref": "y3"
         },
         {
          "fillcolor": "#cbc9ff",
          "layer": "below",
          "line": {
           "width": 0
          },
          "type": "rect",
          "x0": 2.75,
          "x1": 3.25,
          "xref": "x3",
          "y0": 0.7798079819221397,
          "y1": 0.7035360236537023,
          "yref": "y3"
         },
         {
          "fillcolor": "#cbc9ff",
          "layer": "below",
          "line": {
           "width": 0
          },
          "type": "rect",
          "x0": 1.75,
          "x1": 2.25,
          "xref": "x4",
          "y0": 0.1814320129577534,
          "y1": 0.06676070886691979,
          "yref": "y4"
         },
         {
          "fillcolor": "#cbc9ff",
          "layer": "below",
          "line": {
           "width": 0
          },
          "type": "rect",
          "x0": 0.75,
          "x1": 1.25,
          "xref": "x4",
          "y0": 0.24073711081435678,
          "y1": 0.058784525273853194,
          "yref": "y4"
         },
         {
          "fillcolor": "#cbc9ff",
          "layer": "below",
          "line": {
           "width": 0
          },
          "type": "rect",
          "x0": 2.75,
          "x1": 3.25,
          "xref": "x4",
          "y0": 0.3788812900464362,
          "y1": 0.2988631477473126,
          "yref": "y4"
         }
        ],
        "template": {
         "data": {
          "bar": [
           {
            "error_x": {
             "color": "#2a3f5f"
            },
            "error_y": {
             "color": "#2a3f5f"
            },
            "marker": {
             "line": {
              "color": "#E5ECF6",
              "width": 0.5
             },
             "pattern": {
              "fillmode": "overlay",
              "size": 10,
              "solidity": 0.2
             }
            },
            "type": "bar"
           }
          ],
          "barpolar": [
           {
            "marker": {
             "line": {
              "color": "#E5ECF6",
              "width": 0.5
             },
             "pattern": {
              "fillmode": "overlay",
              "size": 10,
              "solidity": 0.2
             }
            },
            "type": "barpolar"
           }
          ],
          "carpet": [
           {
            "aaxis": {
             "endlinecolor": "#2a3f5f",
             "gridcolor": "white",
             "linecolor": "white",
             "minorgridcolor": "white",
             "startlinecolor": "#2a3f5f"
            },
            "baxis": {
             "endlinecolor": "#2a3f5f",
             "gridcolor": "white",
             "linecolor": "white",
             "minorgridcolor": "white",
             "startlinecolor": "#2a3f5f"
            },
            "type": "carpet"
           }
          ],
          "choropleth": [
           {
            "colorbar": {
             "outlinewidth": 0,
             "ticks": ""
            },
            "type": "choropleth"
           }
          ],
          "contour": [
           {
            "colorbar": {
             "outlinewidth": 0,
             "ticks": ""
            },
            "colorscale": [
             [
              0,
              "#0d0887"
             ],
             [
              0.1111111111111111,
              "#46039f"
             ],
             [
              0.2222222222222222,
              "#7201a8"
             ],
             [
              0.3333333333333333,
              "#9c179e"
             ],
             [
              0.4444444444444444,
              "#bd3786"
             ],
             [
              0.5555555555555556,
              "#d8576b"
             ],
             [
              0.6666666666666666,
              "#ed7953"
             ],
             [
              0.7777777777777778,
              "#fb9f3a"
             ],
             [
              0.8888888888888888,
              "#fdca26"
             ],
             [
              1,
              "#f0f921"
             ]
            ],
            "type": "contour"
           }
          ],
          "contourcarpet": [
           {
            "colorbar": {
             "outlinewidth": 0,
             "ticks": ""
            },
            "type": "contourcarpet"
           }
          ],
          "heatmap": [
           {
            "colorbar": {
             "outlinewidth": 0,
             "ticks": ""
            },
            "colorscale": [
             [
              0,
              "#0d0887"
             ],
             [
              0.1111111111111111,
              "#46039f"
             ],
             [
              0.2222222222222222,
              "#7201a8"
             ],
             [
              0.3333333333333333,
              "#9c179e"
             ],
             [
              0.4444444444444444,
              "#bd3786"
             ],
             [
              0.5555555555555556,
              "#d8576b"
             ],
             [
              0.6666666666666666,
              "#ed7953"
             ],
             [
              0.7777777777777778,
              "#fb9f3a"
             ],
             [
              0.8888888888888888,
              "#fdca26"
             ],
             [
              1,
              "#f0f921"
             ]
            ],
            "type": "heatmap"
           }
          ],
          "heatmapgl": [
           {
            "colorbar": {
             "outlinewidth": 0,
             "ticks": ""
            },
            "colorscale": [
             [
              0,
              "#0d0887"
             ],
             [
              0.1111111111111111,
              "#46039f"
             ],
             [
              0.2222222222222222,
              "#7201a8"
             ],
             [
              0.3333333333333333,
              "#9c179e"
             ],
             [
              0.4444444444444444,
              "#bd3786"
             ],
             [
              0.5555555555555556,
              "#d8576b"
             ],
             [
              0.6666666666666666,
              "#ed7953"
             ],
             [
              0.7777777777777778,
              "#fb9f3a"
             ],
             [
              0.8888888888888888,
              "#fdca26"
             ],
             [
              1,
              "#f0f921"
             ]
            ],
            "type": "heatmapgl"
           }
          ],
          "histogram": [
           {
            "marker": {
             "pattern": {
              "fillmode": "overlay",
              "size": 10,
              "solidity": 0.2
             }
            },
            "type": "histogram"
           }
          ],
          "histogram2d": [
           {
            "colorbar": {
             "outlinewidth": 0,
             "ticks": ""
            },
            "colorscale": [
             [
              0,
              "#0d0887"
             ],
             [
              0.1111111111111111,
              "#46039f"
             ],
             [
              0.2222222222222222,
              "#7201a8"
             ],
             [
              0.3333333333333333,
              "#9c179e"
             ],
             [
              0.4444444444444444,
              "#bd3786"
             ],
             [
              0.5555555555555556,
              "#d8576b"
             ],
             [
              0.6666666666666666,
              "#ed7953"
             ],
             [
              0.7777777777777778,
              "#fb9f3a"
             ],
             [
              0.8888888888888888,
              "#fdca26"
             ],
             [
              1,
              "#f0f921"
             ]
            ],
            "type": "histogram2d"
           }
          ],
          "histogram2dcontour": [
           {
            "colorbar": {
             "outlinewidth": 0,
             "ticks": ""
            },
            "colorscale": [
             [
              0,
              "#0d0887"
             ],
             [
              0.1111111111111111,
              "#46039f"
             ],
             [
              0.2222222222222222,
              "#7201a8"
             ],
             [
              0.3333333333333333,
              "#9c179e"
             ],
             [
              0.4444444444444444,
              "#bd3786"
             ],
             [
              0.5555555555555556,
              "#d8576b"
             ],
             [
              0.6666666666666666,
              "#ed7953"
             ],
             [
              0.7777777777777778,
              "#fb9f3a"
             ],
             [
              0.8888888888888888,
              "#fdca26"
             ],
             [
              1,
              "#f0f921"
             ]
            ],
            "type": "histogram2dcontour"
           }
          ],
          "mesh3d": [
           {
            "colorbar": {
             "outlinewidth": 0,
             "ticks": ""
            },
            "type": "mesh3d"
           }
          ],
          "parcoords": [
           {
            "line": {
             "colorbar": {
              "outlinewidth": 0,
              "ticks": ""
             }
            },
            "type": "parcoords"
           }
          ],
          "pie": [
           {
            "automargin": true,
            "type": "pie"
           }
          ],
          "scatter": [
           {
            "fillpattern": {
             "fillmode": "overlay",
             "size": 10,
             "solidity": 0.2
            },
            "type": "scatter"
           }
          ],
          "scatter3d": [
           {
            "line": {
             "colorbar": {
              "outlinewidth": 0,
              "ticks": ""
             }
            },
            "marker": {
             "colorbar": {
              "outlinewidth": 0,
              "ticks": ""
             }
            },
            "type": "scatter3d"
           }
          ],
          "scattercarpet": [
           {
            "marker": {
             "colorbar": {
              "outlinewidth": 0,
              "ticks": ""
             }
            },
            "type": "scattercarpet"
           }
          ],
          "scattergeo": [
           {
            "marker": {
             "colorbar": {
              "outlinewidth": 0,
              "ticks": ""
             }
            },
            "type": "scattergeo"
           }
          ],
          "scattergl": [
           {
            "marker": {
             "colorbar": {
              "outlinewidth": 0,
              "ticks": ""
             }
            },
            "type": "scattergl"
           }
          ],
          "scattermapbox": [
           {
            "marker": {
             "colorbar": {
              "outlinewidth": 0,
              "ticks": ""
             }
            },
            "type": "scattermapbox"
           }
          ],
          "scatterpolar": [
           {
            "marker": {
             "colorbar": {
              "outlinewidth": 0,
              "ticks": ""
             }
            },
            "type": "scatterpolar"
           }
          ],
          "scatterpolargl": [
           {
            "marker": {
             "colorbar": {
              "outlinewidth": 0,
              "ticks": ""
             }
            },
            "type": "scatterpolargl"
           }
          ],
          "scatterternary": [
           {
            "marker": {
             "colorbar": {
              "outlinewidth": 0,
              "ticks": ""
             }
            },
            "type": "scatterternary"
           }
          ],
          "surface": [
           {
            "colorbar": {
             "outlinewidth": 0,
             "ticks": ""
            },
            "colorscale": [
             [
              0,
              "#0d0887"
             ],
             [
              0.1111111111111111,
              "#46039f"
             ],
             [
              0.2222222222222222,
              "#7201a8"
             ],
             [
              0.3333333333333333,
              "#9c179e"
             ],
             [
              0.4444444444444444,
              "#bd3786"
             ],
             [
              0.5555555555555556,
              "#d8576b"
             ],
             [
              0.6666666666666666,
              "#ed7953"
             ],
             [
              0.7777777777777778,
              "#fb9f3a"
             ],
             [
              0.8888888888888888,
              "#fdca26"
             ],
             [
              1,
              "#f0f921"
             ]
            ],
            "type": "surface"
           }
          ],
          "table": [
           {
            "cells": {
             "fill": {
              "color": "#EBF0F8"
             },
             "line": {
              "color": "white"
             }
            },
            "header": {
             "fill": {
              "color": "#C8D4E3"
             },
             "line": {
              "color": "white"
             }
            },
            "type": "table"
           }
          ]
         },
         "layout": {
          "annotationdefaults": {
           "arrowcolor": "#2a3f5f",
           "arrowhead": 0,
           "arrowwidth": 1
          },
          "autotypenumbers": "strict",
          "coloraxis": {
           "colorbar": {
            "outlinewidth": 0,
            "ticks": ""
           }
          },
          "colorscale": {
           "diverging": [
            [
             0,
             "#8e0152"
            ],
            [
             0.1,
             "#c51b7d"
            ],
            [
             0.2,
             "#de77ae"
            ],
            [
             0.3,
             "#f1b6da"
            ],
            [
             0.4,
             "#fde0ef"
            ],
            [
             0.5,
             "#f7f7f7"
            ],
            [
             0.6,
             "#e6f5d0"
            ],
            [
             0.7,
             "#b8e186"
            ],
            [
             0.8,
             "#7fbc41"
            ],
            [
             0.9,
             "#4d9221"
            ],
            [
             1,
             "#276419"
            ]
           ],
           "sequential": [
            [
             0,
             "#0d0887"
            ],
            [
             0.1111111111111111,
             "#46039f"
            ],
            [
             0.2222222222222222,
             "#7201a8"
            ],
            [
             0.3333333333333333,
             "#9c179e"
            ],
            [
             0.4444444444444444,
             "#bd3786"
            ],
            [
             0.5555555555555556,
             "#d8576b"
            ],
            [
             0.6666666666666666,
             "#ed7953"
            ],
            [
             0.7777777777777778,
             "#fb9f3a"
            ],
            [
             0.8888888888888888,
             "#fdca26"
            ],
            [
             1,
             "#f0f921"
            ]
           ],
           "sequentialminus": [
            [
             0,
             "#0d0887"
            ],
            [
             0.1111111111111111,
             "#46039f"
            ],
            [
             0.2222222222222222,
             "#7201a8"
            ],
            [
             0.3333333333333333,
             "#9c179e"
            ],
            [
             0.4444444444444444,
             "#bd3786"
            ],
            [
             0.5555555555555556,
             "#d8576b"
            ],
            [
             0.6666666666666666,
             "#ed7953"
            ],
            [
             0.7777777777777778,
             "#fb9f3a"
            ],
            [
             0.8888888888888888,
             "#fdca26"
            ],
            [
             1,
             "#f0f921"
            ]
           ]
          },
          "colorway": [
           "#636efa",
           "#EF553B",
           "#00cc96",
           "#ab63fa",
           "#FFA15A",
           "#19d3f3",
           "#FF6692",
           "#B6E880",
           "#FF97FF",
           "#FECB52"
          ],
          "font": {
           "color": "#2a3f5f"
          },
          "geo": {
           "bgcolor": "white",
           "lakecolor": "white",
           "landcolor": "#E5ECF6",
           "showlakes": true,
           "showland": true,
           "subunitcolor": "white"
          },
          "hoverlabel": {
           "align": "left"
          },
          "hovermode": "closest",
          "mapbox": {
           "style": "light"
          },
          "paper_bgcolor": "white",
          "plot_bgcolor": "#E5ECF6",
          "polar": {
           "angularaxis": {
            "gridcolor": "white",
            "linecolor": "white",
            "ticks": ""
           },
           "bgcolor": "#E5ECF6",
           "radialaxis": {
            "gridcolor": "white",
            "linecolor": "white",
            "ticks": ""
           }
          },
          "scene": {
           "xaxis": {
            "backgroundcolor": "#E5ECF6",
            "gridcolor": "white",
            "gridwidth": 2,
            "linecolor": "white",
            "showbackground": true,
            "ticks": "",
            "zerolinecolor": "white"
           },
           "yaxis": {
            "backgroundcolor": "#E5ECF6",
            "gridcolor": "white",
            "gridwidth": 2,
            "linecolor": "white",
            "showbackground": true,
            "ticks": "",
            "zerolinecolor": "white"
           },
           "zaxis": {
            "backgroundcolor": "#E5ECF6",
            "gridcolor": "white",
            "gridwidth": 2,
            "linecolor": "white",
            "showbackground": true,
            "ticks": "",
            "zerolinecolor": "white"
           }
          },
          "shapedefaults": {
           "line": {
            "color": "#2a3f5f"
           }
          },
          "ternary": {
           "aaxis": {
            "gridcolor": "white",
            "linecolor": "white",
            "ticks": ""
           },
           "baxis": {
            "gridcolor": "white",
            "linecolor": "white",
            "ticks": ""
           },
           "bgcolor": "#E5ECF6",
           "caxis": {
            "gridcolor": "white",
            "linecolor": "white",
            "ticks": ""
           }
          },
          "title": {
           "x": 0.05
          },
          "xaxis": {
           "automargin": true,
           "gridcolor": "white",
           "linecolor": "white",
           "ticks": "",
           "title": {
            "standoff": 15
           },
           "zerolinecolor": "white",
           "zerolinewidth": 2
          },
          "yaxis": {
           "automargin": true,
           "gridcolor": "white",
           "linecolor": "white",
           "ticks": "",
           "title": {
            "standoff": 15
           },
           "zerolinecolor": "white",
           "zerolinewidth": 2
          }
         }
        },
        "width": 1600,
        "xaxis": {
         "anchor": "y",
         "domain": [
          0,
          0.49
         ],
         "range": [
          0.5,
          3.5
         ],
         "showgrid": false,
         "showticklabels": false,
         "tickfont": {
          "size": 20
         },
         "tickmode": "array",
         "ticktext": [
          "Mammals</br>",
          "Birds</br>",
          "Vehicles</br>"
         ],
         "tickvals": [
          1,
          2,
          3
         ]
        },
        "xaxis2": {
         "anchor": "y2",
         "domain": [
          0.51,
          1
         ],
         "range": [
          0.5,
          3.5
         ],
         "showgrid": false,
         "showticklabels": false,
         "tickfont": {
          "size": 20
         },
         "tickmode": "array",
         "ticktext": [
          "Mammals</br>",
          "Birds</br>",
          "Vehicles</br>"
         ],
         "tickvals": [
          1,
          2,
          3
         ]
        },
        "xaxis3": {
         "anchor": "y3",
         "domain": [
          0,
          0.49
         ],
         "range": [
          0.5,
          3.5
         ],
         "showgrid": false,
         "showticklabels": true,
         "tickfont": {
          "size": 20
         },
         "tickmode": "array",
         "ticktext": [
          "Mammals</br>",
          "Birds</br>",
          "Vehicles</br>"
         ],
         "tickvals": [
          1,
          2,
          3
         ]
        },
        "xaxis4": {
         "anchor": "y4",
         "domain": [
          0.51,
          1
         ],
         "range": [
          0.5,
          3.5
         ],
         "showgrid": false,
         "showticklabels": true,
         "tickfont": {
          "size": 20
         },
         "tickmode": "array",
         "ticktext": [
          "Mammals</br>",
          "Birds</br>",
          "Vehicles</br>"
         ],
         "tickvals": [
          1,
          2,
          3
         ]
        },
        "yaxis": {
         "anchor": "x",
         "domain": [
          0.525,
          1
         ],
         "gridcolor": "#e6e6e6",
         "gridwidth": 6,
         "matches": "y",
         "range": [
          -0.5,
          1
         ],
         "tickfont": {
          "size": 20
         },
         "tickmode": "array",
         "ticktext": [
          "-0.5 ",
          "0 ",
          "0.5 ",
          "1 "
         ],
         "tickvals": [
          -0.5,
          0,
          0.5,
          1
         ],
         "zerolinecolor": "#e6e6e6",
         "zerolinewidth": 6
        },
        "yaxis2": {
         "anchor": "x2",
         "domain": [
          0.525,
          1
         ],
         "gridcolor": "#e6e6e6",
         "gridwidth": 6,
         "matches": "y",
         "range": [
          -0.5,
          1
         ],
         "showticklabels": false,
         "tickfont": {
          "size": 20
         },
         "tickmode": "array",
         "ticktext": [
          "-0.5 ",
          "0 ",
          "0.5 ",
          "1 "
         ],
         "tickvals": [
          -0.5,
          0,
          0.5,
          1
         ],
         "zerolinecolor": "#e6e6e6",
         "zerolinewidth": 6
        },
        "yaxis3": {
         "anchor": "x3",
         "domain": [
          0,
          0.475
         ],
         "gridcolor": "#e6e6e6",
         "gridwidth": 6,
         "matches": "y",
         "range": [
          -0.5,
          1
         ],
         "tickfont": {
          "size": 20
         },
         "tickmode": "array",
         "ticktext": [
          "-0.5 ",
          "0 ",
          "0.5 ",
          "1 "
         ],
         "tickvals": [
          -0.5,
          0,
          0.5,
          1
         ],
         "zerolinecolor": "#e6e6e6",
         "zerolinewidth": 6
        },
        "yaxis4": {
         "anchor": "x4",
         "domain": [
          0,
          0.475
         ],
         "gridcolor": "#e6e6e6",
         "gridwidth": 6,
         "matches": "y",
         "range": [
          -0.5,
          1
         ],
         "showticklabels": false,
         "tickfont": {
          "size": 20
         },
         "tickmode": "array",
         "ticktext": [
          "-0.5 ",
          "0 ",
          "0.5 ",
          "1 "
         ],
         "tickvals": [
          -0.5,
          0,
          0.5,
          1
         ],
         "zerolinecolor": "#e6e6e6",
         "zerolinewidth": 6
        }
       }
      }
     },
     "metadata": {},
     "output_type": "display_data"
    }
   ],
   "source": [
    "summary_ratings_df = pd.read_csv(f\"{PROCESSED_DATA}/e2_split_half_reliabilities_blockwise_summary.csv\", index_col=0)\n",
    "summary_ratings_df[\"argument_type\"] = summary_ratings_df[\"is_single_premise\"].apply(lambda x: \"single\" if x else \"multi\")\n",
    "\n",
    "bootstrap_summary_df = pd.read_csv(f\"{PROCESSED_DATA}/experiment_2_prompt_sweep_bootstrap_correlations_participantblockwise_summary.csv\", index_col=0)\n",
    "\n",
    "GRID_COLOUR= \"#e6e6e6\"\n",
    "SPLIT_RELIABILITY_COLOUR = \"#cbc9ff\"\n",
    "\n",
    "fig = make_subplots(\n",
    "    rows=2, cols=2,\n",
    "    subplot_titles=[\n",
    "        '<b>Specific, Single Premise</b>', \n",
    "        '<b>General, Single Premise</b>', \n",
    "        '<b>Specific, Two Premise</b>', \n",
    "        '<b>General, Two Premise</b>'\n",
    "    ],\n",
    "    shared_yaxes=True,\n",
    "    vertical_spacing=0.05,\n",
    "    horizontal_spacing=0.02,\n",
    "    specs=[[{'type': 'scatter'}, {'type': 'scatter'}],\n",
    "           [{'type': 'scatter'}, {'type': 'scatter'}]]\n",
    ")\n",
    "\n",
    "domain_mapping = {'Mammals': 1, 'Birds': 2, 'Vehicles': 3}\n",
    "marker_colors = ['green', '#94d1a4', 'red', 'pink', 'blue']\n",
    "offsets = [-0.2, -0.1, 0, 0.1, 0.2]\n",
    "rating_columns = [\n",
    "                    'gpt3_mean_spearmanr', \n",
    "                    'gpt3_scm_mean_spearmanr', \n",
    "                    'gpt4_mean_spearmanr', \n",
    "                    'gpt4_scm_mean_spearmanr', \n",
    "                    'human_scm_mean_spearmanr'\n",
    "                 ]\n",
    "\n",
    "\n",
    "def add_dumbbell_trace(fig, df, rating_col, marker_color, row, col, legend, offset):\n",
    "    temp_df = df.copy()\n",
    "    temp_df['x'] = temp_df['domain'].map(domain_mapping) + offset\n",
    "    fig.add_trace(go.Scatter(\n",
    "        x=temp_df['x'],\n",
    "        y=temp_df[rating_col],\n",
    "        error_y=dict(type='data', array=df[rating_col.replace(\"mean\", \"se\")], symmetric=True, visible=True, width=7, thickness=5, color=marker_color),\n",
    "        mode='markers',\n",
    "        marker=dict(color=marker_color, size=20),\n",
    "        showlegend=legend,\n",
    "        legendgroup=rating_col,\n",
    "        name=rating_col.split('_')[0].replace(\"gpt\", \"GPT-\") if 'scm' not in rating_col else ' '.join([rc for rc in rating_col.split('_')[:2] if rc != \"corr\"]).replace(\"gpt\", \"GPT-\").replace(\"scm\", \"SCM\"),\n",
    "        customdata=temp_df['domain'],\n",
    "        texttemplate=\"%{customdata}<br>%{y}\",\n",
    "        hovertemplate=\"%{customdata}<br>%{y}\",\n",
    "    ), row=row, col=col)\n",
    "\n",
    "\n",
    "shapes = []\n",
    "for i, (conclusion_type, argument_type) in enumerate([\n",
    "        ('Specific', 'single'), \n",
    "        ('General', 'single'), \n",
    "        ('Specific', 'multi'), \n",
    "        ('General', 'multi')\n",
    "    ], start=1):\n",
    "    \n",
    "    row, col = (i - 1) // 2 + 1, (i - 1) % 2 + 1\n",
    "    data = bootstrap_summary_df[(bootstrap_summary_df['conclusion_type'] == conclusion_type) & (bootstrap_summary_df['argument_type'] == argument_type)]\n",
    "\n",
    "    split_half_df = summary_ratings_df[(summary_ratings_df[\"conclusion_type\"] == conclusion_type) & (summary_ratings_df[\"argument_type\"] == argument_type)]\n",
    "    split_half_df[\"x\"] = split_half_df[\"domain\"].map(domain_mapping)\n",
    "    shapes = [\n",
    "        dict(type=\"rect\", xref=f\"x{row if row > 1 else ''}\", yref=f\"y{col if col > 1 else ''}\", x0=r[\"x\"] - 0.25, y0=r[\"spearmanr_mean\"] + r[\"spearmanr_std\"], x1=r[\"x\"] + 0.25, y1=r[\"spearmanr_mean\"] - r[\"spearmanr_std\"], fillcolor=SPLIT_RELIABILITY_COLOUR, line_width=0, layer=\"below\")\n",
    "        for _, r in split_half_df.iterrows()\n",
    "    ]\n",
    "    for s in shapes:\n",
    "        fig.add_shape(s, row=row, col=col)\n",
    "\n",
    "    for rating_col, marker_color, offset in zip(rating_columns, marker_colors, offsets):\n",
    "        add_dumbbell_trace(fig, data, rating_col, marker_color, row, col, (i==1), offset)\n",
    "\n",
    "fig.update_layout(\n",
    "    width=1600,\n",
    "    height=800, \n",
    "    legend=dict(orientation='v', yanchor='top', xanchor='right', x=1.13, font=dict(size=20)),\n",
    "    plot_bgcolor=\"#f5f6f7\",\n",
    ")\n",
    "\n",
    "fig.update_annotations(font_size=24)\n",
    "\n",
    "fig.update_yaxes(range=[-0.5, 1], matches='y')\n",
    "fig.update_xaxes(tickvals=list(domain_mapping.values()), range=[0.5,3.5], ticktext=[f\"{k}</br>\" for k in list(domain_mapping.keys())])\n",
    "for r in range(1,3):\n",
    "    for c in range(1,3):\n",
    "        fig.update_xaxes(showgrid=False, tickfont={\"size\": 20}, tickmode=\"array\", tickvals=[1,2,3], row=r, col=c, showticklabels=r==2)\n",
    "        fig.update_yaxes(gridwidth=6, zerolinewidth=6, zerolinecolor=GRID_COLOUR, gridcolor=GRID_COLOUR, tickfont={\"size\": 20}, tickmode=\"array\", tickvals=[-0.5,0,0.5,1], ticktext=[f\"{k} \" for k in [-0.5,0,0.5,1]], row=r, col=c)\n",
    "\n",
    "fig.show()"
   ]
  },
  {
   "cell_type": "code",
   "execution_count": null,
   "id": "b305dbb6",
   "metadata": {},
   "outputs": [],
   "source": []
  }
 ],
 "metadata": {
  "kernelspec": {
   "display_name": "Python 3",
   "language": "python",
   "name": "python3"
  },
  "language_info": {
   "codemirror_mode": {
    "name": "ipython",
    "version": 3
   },
   "file_extension": ".py",
   "mimetype": "text/x-python",
   "name": "python",
   "nbconvert_exporter": "python",
   "pygments_lexer": "ipython3",
   "version": "3.10.8"
  }
 },
 "nbformat": 4,
 "nbformat_minor": 5
}
